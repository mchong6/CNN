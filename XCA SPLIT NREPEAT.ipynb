{
 "cells": [
  {
   "cell_type": "code",
   "execution_count": 1,
   "metadata": {
    "collapsed": false
   },
   "outputs": [],
   "source": [
    "require 'cunn';\n",
    "require 'nn';\n",
    "require 'paths'\n",
    "local matio = require 'matio'\n",
    "local tensor = matio.load('CIFAR2_reshaped.mat')\n",
    "test_X = tensor.test_X\n",
    "\n",
    "nRepeat = 4\n",
    "labelLength = nRepeat * 2\n",
    "numberTR0 = 5000\n",
    "numberTR1 = 5000\n",
    "numberTe0 = 500\n",
    "numberTe1 = 500\n",
    "label0 = torch.cat(torch.ones(nRepeat), torch.zeros(nRepeat),1)\n",
    "label1 = torch.cat(torch.zeros(nRepeat), torch.ones(nRepeat),1)\n",
    "label0 = label0:cuda()\n",
    "label1 = label1:cuda()\n",
    "\n",
    "train_Y = torch.cat(torch.repeatTensor(label0, numberTR0, 1), torch.repeatTensor(label1, numberTR1, 1), 1)\n",
    "test_Y = torch.cat(torch.repeatTensor(label0, numberTe0, 1), torch.repeatTensor(label1, numberTe1, 1), 1)\n",
    "\n",
    "tensors = {}\n",
    "tensors.data = tensor.train_X\n",
    "tensors.label = train_Y\n",
    "\n",
    "--print(label0)\n",
    "--print(train_Y[5001])\n",
    "--print(torch.type(trainset))"
   ]
  },
  {
   "cell_type": "code",
   "execution_count": 2,
   "metadata": {
    "collapsed": false,
    "scrolled": true
   },
   "outputs": [
    {
     "ename": "...e/chongmj/torch/install/share/lua/5.1/cutorch/Tensor.lua:14: $ Torch: not enough memory: you tried to allocate 0GB. Buy new RAM! at /home/chongmj/torch/pkg/torch/lib/TH/THGeneral.c:226\nstack traceback:\n\t[C]: in function 'resize'\n\t...e/chongmj/torch/install/share/lua/5.1/cutorch/Tensor.lua:14: in function 'double'\n\t[string \"-- ignore setmetatable for now, it is a featu...\"]:7: in main chunk\n\t[C]: in function 'xpcall'\n\t/home/chongmj/torch/install/share/lua/5.1/itorch/main.lua:209: in function </home/chongmj/torch/install/share/lua/5.1/itorch/main.lua:173>\n\t/home/chongmj/torch/install/share/lua/5.1/lzmq/poller.lua:75: in function 'poll'\n\t...e/chongmj/torch/install/share/lua/5.1/lzmq/impl/loop.lua:307: in function 'poll'\n\t...e/chongmj/torch/install/share/lua/5.1/lzmq/impl/loop.lua:325: in function 'sleep_ex'\n\t...e/chongmj/torch/install/share/lua/5.1/lzmq/impl/loop.lua:370: in function 'start'\n\t/home/chongmj/torch/install/share/lua/5.1/itorch/main.lua:381: in main chunk\n\t[C]: in function 'require'\n\t(command line):1: in main chunk\n\t[C]: at 0x00406670",
     "evalue": "",
     "output_type": "error",
     "traceback": [
      "...e/chongmj/torch/install/share/lua/5.1/cutorch/Tensor.lua:14: $ Torch: not enough memory: you tried to allocate 0GB. Buy new RAM! at /home/chongmj/torch/pkg/torch/lib/TH/THGeneral.c:226\nstack traceback:\n\t[C]: in function 'resize'\n\t...e/chongmj/torch/install/share/lua/5.1/cutorch/Tensor.lua:14: in function 'double'\n\t[string \"-- ignore setmetatable for now, it is a featu...\"]:7: in main chunk\n\t[C]: in function 'xpcall'\n\t/home/chongmj/torch/install/share/lua/5.1/itorch/main.lua:209: in function </home/chongmj/torch/install/share/lua/5.1/itorch/main.lua:173>\n\t/home/chongmj/torch/install/share/lua/5.1/lzmq/poller.lua:75: in function 'poll'\n\t...e/chongmj/torch/install/share/lua/5.1/lzmq/impl/loop.lua:307: in function 'poll'\n\t...e/chongmj/torch/install/share/lua/5.1/lzmq/impl/loop.lua:325: in function 'sleep_ex'\n\t...e/chongmj/torch/install/share/lua/5.1/lzmq/impl/loop.lua:370: in function 'start'\n\t/home/chongmj/torch/install/share/lua/5.1/itorch/main.lua:381: in main chunk\n\t[C]: in function 'require'\n\t(command line):1: in main chunk\n\t[C]: at 0x00406670"
     ]
    }
   ],
   "source": [
    "-- ignore setmetatable for now, it is a feature beyond the scope of this tutorial. It sets the index operator.\n",
    "setmetatable(tensors, \n",
    "    {__index = function(t, i) \n",
    "                    return {t.data[i], t.label[i]} \n",
    "                end}\n",
    ");\n",
    "tensors.data = tensors.data:double() -- convert the data from a ByteTensor to a DoubleTensor.\n",
    "\n",
    "function tensors:size() \n",
    "    return self.data:size(1) \n",
    "end\n",
    "\n",
    "\n",
    "--change to cuda after setmetatable. unknown reason\n",
    "tensors.data = tensors.data:cuda()\n",
    "tensors.label = tensors.label:cuda()\n"
   ]
  },
  {
   "cell_type": "code",
   "execution_count": 3,
   "metadata": {
    "collapsed": false
   },
   "outputs": [
    {
     "ename": "[string \"mean = {} -- store the mean, to normalize the...\"]:4: attempt to call method 'mean' (a nil value)\nstack traceback:\n\t[string \"mean = {} -- store the mean, to normalize the...\"]:4: in main chunk\n\t[C]: in function 'xpcall'\n\t/home/chongmj/torch/install/share/lua/5.1/itorch/main.lua:209: in function </home/chongmj/torch/install/share/lua/5.1/itorch/main.lua:173>\n\t/home/chongmj/torch/install/share/lua/5.1/lzmq/poller.lua:75: in function 'poll'\n\t...e/chongmj/torch/install/share/lua/5.1/lzmq/impl/loop.lua:307: in function 'poll'\n\t...e/chongmj/torch/install/share/lua/5.1/lzmq/impl/loop.lua:325: in function 'sleep_ex'\n\t...e/chongmj/torch/install/share/lua/5.1/lzmq/impl/loop.lua:370: in function 'start'\n\t/home/chongmj/torch/install/share/lua/5.1/itorch/main.lua:381: in main chunk\n\t[C]: in function 'require'\n\t(command line):1: in main chunk\n\t[C]: at 0x00406670",
     "evalue": "",
     "output_type": "error",
     "traceback": [
      "[string \"mean = {} -- store the mean, to normalize the...\"]:4: attempt to call method 'mean' (a nil value)\nstack traceback:\n\t[string \"mean = {} -- store the mean, to normalize the...\"]:4: in main chunk\n\t[C]: in function 'xpcall'\n\t/home/chongmj/torch/install/share/lua/5.1/itorch/main.lua:209: in function </home/chongmj/torch/install/share/lua/5.1/itorch/main.lua:173>\n\t/home/chongmj/torch/install/share/lua/5.1/lzmq/poller.lua:75: in function 'poll'\n\t...e/chongmj/torch/install/share/lua/5.1/lzmq/impl/loop.lua:307: in function 'poll'\n\t...e/chongmj/torch/install/share/lua/5.1/lzmq/impl/loop.lua:325: in function 'sleep_ex'\n\t...e/chongmj/torch/install/share/lua/5.1/lzmq/impl/loop.lua:370: in function 'start'\n\t/home/chongmj/torch/install/share/lua/5.1/itorch/main.lua:381: in main chunk\n\t[C]: in function 'require'\n\t(command line):1: in main chunk\n\t[C]: at 0x00406670"
     ]
    }
   ],
   "source": [
    "mean = {} -- store the mean, to normalize the test set in the future\n",
    "stdv  = {} -- store the standard-deviation for the future\n",
    "for i=1,3 do -- over each image channel\n",
    "    mean[i] = tensors.data[{ {}, {i}, {}, {}  }]:mean() -- mean estimation\n",
    "    print('Channel ' .. i .. ', Mean: ' .. mean[i])\n",
    "    tensors.data[{ {}, {i}, {}, {}  }]:add(-mean[i]) -- mean subtraction, :add(value) add value to all elements in place.\n",
    "    \n",
    "    stdv[i] = tensors.data[{ {}, {i}, {}, {}  }]:std() -- std estimation\n",
    "    print('Channel ' .. i .. ', Standard Deviation: ' .. stdv[i])\n",
    "    tensors.data[{ {}, {i}, {}, {}  }]:div(stdv[i]) -- std scaling :div(value) divides all elements by value in place.\n",
    "end"
   ]
  },
  {
   "cell_type": "code",
   "execution_count": 4,
   "metadata": {
    "collapsed": false
   },
   "outputs": [],
   "source": [
    "net = nn.Sequential()\n",
    "net:add(nn.SpatialZeroPadding(2,2,2,2))\n",
    "net:add(nn.SpatialConvolution(3, 32, 5, 5)) -- 3 input image channels, 6 output channels, 5x5 convolution kernel\n",
    "net:add(nn.Dropout(0.4))\n",
    "net:add(nn.ReLU())                       -- non-linearity, think of this as sigmoid function \n",
    "net:add(nn.SpatialMaxPooling(2,2,2,2))     -- A max-pooling operation that looks at 2x2 windows and finds the max.\n",
    "\n",
    "--split = nn.ConcatTable()\n",
    "\n",
    "c = nn.Sequential()\n",
    "c:add(nn.SpatialZeroPadding(2,2,2,2))\n",
    "c:add(nn.SpatialConvolution(32, 32, 5, 5)) --repeat convolution\n",
    "c:add(nn.Dropout(0.4))\n",
    "c:add(nn.ReLU())                       -- non-linearity \n",
    "c:add(nn.SpatialMaxPooling(2,2,2,2))\n",
    "c:add(nn.SpatialZeroPadding(2,2,2,2))\n",
    "c:add(nn.SpatialConvolution(32, 64, 5, 5)) --repeat convolution\n",
    "c:add(nn.Dropout(0.4))\n",
    "c:add(nn.ReLU())                       -- non-linearity \n",
    "c:add(nn.SpatialMaxPooling(2,2,2,2))\n",
    "c:add(nn.View(64*4*4))                    -- reshapes from a 3D tensor of 16x5x5 into 1D tensor of 16*5*5\n",
    "c:add(nn.Linear(64*4*4, 120))             -- fully connected layer (matrix multiplication between input and weights), neural network, full connection.\n",
    "c:add(nn.ReLU())                       -- non-linearity \n",
    "c:add(nn.Linear(120, 84))\n",
    "c:add(nn.ReLU())                       -- non-linearity \n",
    "c:add(nn.Dropout(0.5))\n",
    "c:add(nn.Linear(84, labelLength/2))                   -- 10 is the number of outputs of the network (in this case, 10 digits)\n",
    "c:add(nn.Sigmoid()) \n",
    "\n",
    "d = c\n",
    "\n",
    "--net:add(nn.LogSoftMax())                     -- converts the output to a log-probability. Useful for classification problems\n",
    "\n",
    "--split:add(c)\n",
    "--split:add(c)\n",
    "\n",
    "concat=nn.Concat(1)\n",
    "concat:add(c)\n",
    "concat:add(c)\n",
    "\n",
    "net:add(concat)\n",
    "net = net:cuda()"
   ]
  },
  {
   "cell_type": "code",
   "execution_count": 5,
   "metadata": {
    "collapsed": false
   },
   "outputs": [],
   "source": [
    "criterion = nn.MultiLabelSoftMarginCriterion()\n",
    "criterion = criterion:cuda()\n",
    "trainer = nn.StochasticGradient(net, criterion)\n",
    "trainer.learningRate = 0.0005\n",
    "trainer.maxIteration = 1500 -- just do 5 epochs of training."
   ]
  },
  {
   "cell_type": "code",
   "execution_count": 6,
   "metadata": {
    "collapsed": false
   },
   "outputs": [
    {
     "ename": "...mj/torch/install/share/lua/5.1/nn/StochasticGradient.lua:19: attempt to call method 'size' (a table value)\nstack traceback:\n\t...mj/torch/install/share/lua/5.1/nn/StochasticGradient.lua:19: in function 'f'\n\t[string \"local f = function() return trainer:train(ten...\"]:1: in main chunk\n\t[C]: in function 'xpcall'\n\t/home/chongmj/torch/install/share/lua/5.1/itorch/main.lua:209: in function </home/chongmj/torch/install/share/lua/5.1/itorch/main.lua:173>\n\t/home/chongmj/torch/install/share/lua/5.1/lzmq/poller.lua:75: in function 'poll'\n\t...e/chongmj/torch/install/share/lua/5.1/lzmq/impl/loop.lua:307: in function 'poll'\n\t...e/chongmj/torch/install/share/lua/5.1/lzmq/impl/loop.lua:325: in function 'sleep_ex'\n\t...e/chongmj/torch/install/share/lua/5.1/lzmq/impl/loop.lua:370: in function 'start'\n\t/home/chongmj/torch/install/share/lua/5.1/itorch/main.lua:381: in main chunk\n\t[C]: in function 'require'\n\t(command line):1: in main chunk\n\t[C]: at 0x00406670",
     "evalue": "",
     "output_type": "error",
     "traceback": [
      "...mj/torch/install/share/lua/5.1/nn/StochasticGradient.lua:19: attempt to call method 'size' (a table value)\nstack traceback:\n\t...mj/torch/install/share/lua/5.1/nn/StochasticGradient.lua:19: in function 'f'\n\t[string \"local f = function() return trainer:train(ten...\"]:1: in main chunk\n\t[C]: in function 'xpcall'\n\t/home/chongmj/torch/install/share/lua/5.1/itorch/main.lua:209: in function </home/chongmj/torch/install/share/lua/5.1/itorch/main.lua:173>\n\t/home/chongmj/torch/install/share/lua/5.1/lzmq/poller.lua:75: in function 'poll'\n\t...e/chongmj/torch/install/share/lua/5.1/lzmq/impl/loop.lua:307: in function 'poll'\n\t...e/chongmj/torch/install/share/lua/5.1/lzmq/impl/loop.lua:325: in function 'sleep_ex'\n\t...e/chongmj/torch/install/share/lua/5.1/lzmq/impl/loop.lua:370: in function 'start'\n\t/home/chongmj/torch/install/share/lua/5.1/itorch/main.lua:381: in main chunk\n\t[C]: in function 'require'\n\t(command line):1: in main chunk\n\t[C]: at 0x00406670"
     ]
    }
   ],
   "source": [
    "trainer:train(tensors)"
   ]
  },
  {
   "cell_type": "code",
   "execution_count": 7,
   "metadata": {
    "collapsed": false
   },
   "outputs": [
    {
     "ename": "[string \"test_X = test_X:double()   -- convert from By...\"]:3: attempt to perform arithmetic on a nil value\nstack traceback:\n\t[string \"test_X = test_X:double()   -- convert from By...\"]:3: in main chunk\n\t[C]: in function 'xpcall'\n\t/home/chongmj/torch/install/share/lua/5.1/itorch/main.lua:209: in function </home/chongmj/torch/install/share/lua/5.1/itorch/main.lua:173>\n\t/home/chongmj/torch/install/share/lua/5.1/lzmq/poller.lua:75: in function 'poll'\n\t...e/chongmj/torch/install/share/lua/5.1/lzmq/impl/loop.lua:307: in function 'poll'\n\t...e/chongmj/torch/install/share/lua/5.1/lzmq/impl/loop.lua:325: in function 'sleep_ex'\n\t...e/chongmj/torch/install/share/lua/5.1/lzmq/impl/loop.lua:370: in function 'start'\n\t/home/chongmj/torch/install/share/lua/5.1/itorch/main.lua:381: in main chunk\n\t[C]: in function 'require'\n\t(command line):1: in main chunk\n\t[C]: at 0x00406670",
     "evalue": "",
     "output_type": "error",
     "traceback": [
      "[string \"test_X = test_X:double()   -- convert from By...\"]:3: attempt to perform arithmetic on a nil value\nstack traceback:\n\t[string \"test_X = test_X:double()   -- convert from By...\"]:3: in main chunk\n\t[C]: in function 'xpcall'\n\t/home/chongmj/torch/install/share/lua/5.1/itorch/main.lua:209: in function </home/chongmj/torch/install/share/lua/5.1/itorch/main.lua:173>\n\t/home/chongmj/torch/install/share/lua/5.1/lzmq/poller.lua:75: in function 'poll'\n\t...e/chongmj/torch/install/share/lua/5.1/lzmq/impl/loop.lua:307: in function 'poll'\n\t...e/chongmj/torch/install/share/lua/5.1/lzmq/impl/loop.lua:325: in function 'sleep_ex'\n\t...e/chongmj/torch/install/share/lua/5.1/lzmq/impl/loop.lua:370: in function 'start'\n\t/home/chongmj/torch/install/share/lua/5.1/itorch/main.lua:381: in main chunk\n\t[C]: in function 'require'\n\t(command line):1: in main chunk\n\t[C]: at 0x00406670"
     ]
    }
   ],
   "source": [
    "test_X = test_X:double()   -- convert from Byte tensor to Double tensor\n",
    "for i=1,3 do -- over each image channel\n",
    "    tensors.data[{ {}, {i}, {}, {}  }]:add(-mean[i]) -- mean subtraction    \n",
    "    tensors.data[{ {}, {i}, {}, {}  }]:div(stdv[i]) -- std scaling\n",
    "end"
   ]
  },
  {
   "cell_type": "code",
   "execution_count": 8,
   "metadata": {
    "collapsed": false
   },
   "outputs": [],
   "source": [
    "correct = 0\n",
    "for i=1,numberTe0 do\n",
    "    local prediction = net:forward(test_X[i])\n",
    "    if (prediction - label0)*(prediction - label0)< (prediction - label1) * (prediction -label1) then\n",
    "        correct = correct + 1\n",
    "    end\n",
    "end\n",
    "\n",
    "for i=numberTe0+1,numberTe0 + numberTe1 do\n",
    "    local prediction = net:forward(test_X[i])\n",
    "    if (prediction - label1)*(prediction - label1) < (prediction - label0)*(prediction - label0) then\n",
    "        correct = correct + 1\n",
    "    end\n",
    "end"
   ]
  },
  {
   "cell_type": "code",
   "execution_count": 9,
   "metadata": {
    "collapsed": false
   },
   "outputs": [
    {
     "data": {
      "text/plain": [
       "0\t0 % \t\n"
      ]
     },
     "execution_count": 9,
     "metadata": {},
     "output_type": "execute_result"
    }
   ],
   "source": [
    "print(correct, 100*correct/(numberTe0+numberTe1) .. ' % ')"
   ]
  },
  {
   "cell_type": "markdown",
   "metadata": {},
   "source": [
    "* Build crazy graphs of networks: https://github.com/torch/nngraph\n",
    "* Train on imagenet with multiple GPUs: https://github.com/soumith/imagenet-multiGPU.torch\n",
    "* Train recurrent networks with LSTM on text: https://github.com/wojzaremba/lstm\n",
    "\n",
    "* More demos and tutorials: https://github.com/torch/torch7/wiki/Cheatsheet\n",
    "\n",
    "* Chat with developers of Torch: http://gitter.im/torch/torch7\n",
    "* Ask for help: http://groups.google.com/forum/#!forum/torch7\n"
   ]
  },
  {
   "cell_type": "code",
   "execution_count": null,
   "metadata": {
    "collapsed": false
   },
   "outputs": [],
   "source": []
  }
 ],
 "metadata": {
  "kernelspec": {
   "display_name": "iTorch",
   "language": "lua",
   "name": "itorch"
  },
  "language_info": {
   "name": "lua",
   "version": "5.1"
  }
 },
 "nbformat": 4,
 "nbformat_minor": 0
}
