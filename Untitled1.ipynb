{
 "cells": [
  {
   "cell_type": "markdown",
   "metadata": {},
   "source": [
    "Next, we’ll need to create some training data. Neural networks require many examples in order to train, so we choose to generate 10000 example signals. This number may seem large, but remember that we have 4 randomized components to each wave; Type, height, width, start index. This translates to 2*6*21*6 = 1512 possible permutations. In real life, problems are much more complex.\n"
   ]
  },
  {
   "cell_type": "code",
   "execution_count": null,
   "metadata": {
    "collapsed": true
   },
   "outputs": [],
   "source": []
  },
  {
   "cell_type": "code",
   "execution_count": 73,
   "metadata": {
    "collapsed": false
   },
   "outputs": [
    {
     "data": {
      "text/plain": [
       "torch.DoubleTensor\t\n"
      ]
     },
     "execution_count": 73,
     "metadata": {},
     "output_type": "execute_result"
    }
   ],
   "source": [
    "require 'nn';\n",
    "\n",
    "\n",
    "-- Next, create the training data. We'll use 10000 samples for now\n",
    "nExamples = 10000\n",
    "\n",
    "trainset = {}\n",
    "trainset.data = torch.Tensor(nExamples,64,1):zero() -- Data will be sized as 5000x64x1\n",
    "trainset.label = torch.Tensor(nExamples, 4):zero()     -- Use one dimensional tensor for label\n",
    "\n",
    "--The network trainer expects an index metatable\n",
    "setmetatable(trainset, \n",
    "{__index = function(t, i) \n",
    "    return {t.data[i], t.label[i]}  -- The trainer is expecting trainset[123] to be {data[123], label[123]}\n",
    "    end}\n",
    ");\n",
    "\n",
    "--The network trainer expects a size function\n",
    "function trainset:size() \n",
    "    return self.data:size(1) \n",
    "end\n",
    "\n",
    "function GenerateTrainingSet()\n",
    "\n",
    "    -- Time to prepare the training set with data\n",
    "    -- At random, have data be either a triangular pulse, or a rectangular pulse\n",
    "    -- Have randomness as to when the signal starts, ends, and how high it is\n",
    "    for i=1,nExamples do\n",
    "        curWaveType = math.random(1,2)      -- 1 for triangular signal, 2 for square pulse\n",
    "        curWaveHeight = math.random(5,10)   -- how high is signal\n",
    "        curWaveWidth = math.random(20,40)   -- how wide is signal\n",
    "        curWaveStart = math.random(5,10)    -- when to start signal\n",
    "    \n",
    "        for j=1,curWaveStart-1 do\n",
    "            trainset.data[i][j][1] = 0\n",
    "        end\n",
    "    \n",
    "        if curWaveType==1 then   -- We are making a triangular wave\n",
    "            delta = curWaveHeight / (curWaveWidth/2);\n",
    "            for curIndex=1,curWaveWidth/2 do\n",
    "                trainset.data[i][curWaveStart-1+curIndex][1] = delta * curIndex\n",
    "            end\n",
    "            for curIndex=(curWaveWidth/2)+1, curWaveWidth do\n",
    "                trainset.data[i][curWaveStart-1+curIndex][1] = delta * (curWaveWidth-curIndex)\n",
    "            end\n",
    "            trainset.label[i] = torch.Tensor({1,1,0,0})\n",
    "        else\n",
    "            for j=1,curWaveWidth do\n",
    "                trainset.data[i][curWaveStart-1+j][1] = curWaveHeight\n",
    "            end\n",
    "            trainset.label[i] = torch.Tensor({0,0,1,1})\n",
    "        end\n",
    "    end\n",
    "end\n",
    "\n",
    "GenerateTrainingSet()\n",
    "print(torch.type(trainset.label[10]))\n"
   ]
  },
  {
   "cell_type": "markdown",
   "metadata": {},
   "source": [
    "Next, we will construct our neural network. Starting with 64×1 data going in, we will go two Convolution-MaxPool-ReLU ‘layers’, and end with a two layer fully connected neural network, and end with two outputs. Because this is a classification problem, we’ll use log-probability output. Whichever output is greatest (close to zero) is the selection of the network. The other output should have a negative value.\n"
   ]
  },
  {
   "cell_type": "code",
   "execution_count": 65,
   "metadata": {
    "collapsed": false
   },
   "outputs": [],
   "source": [
    "\n",
    "-- This is where we build the model\n",
    "model = nn.Sequential()                       -- Create network\n",
    "\n",
    "-- First convolution, using ten, 7-element kernels\n",
    "model:add(nn.TemporalConvolution(1, 10, 7))   -- 64x1 goes in, 58x10 goes out\n",
    "model:add(nn.TemporalMaxPooling(2))           -- 58x10 goes in, 29x10 goes out\n",
    "model:add(nn.ReLU())                          -- non-linear activation function\n",
    "\n",
    "-- Second convolution, using 5, 7-element kernels\n",
    "model:add(nn.TemporalConvolution(10, 5, 7))   -- 29x10 goes in, 23x5 goes out\n",
    "model:add(nn.TemporalMaxPooling(2))           -- 23x5 goes in, 11x5 goes out\n",
    "model:add(nn.ReLU())                          -- non-linear activation function\n",
    "\n",
    "-- After convolutional layers, time to do fully connected network\n",
    "model:add(nn.View(11*5))                        -- Reshape network into 1D tensor\n",
    "\n",
    "model:add(nn.Linear(11*5, 30))                  -- Fully connected layer, 55 inputs, 30 outputs\n",
    "model:add(nn.ReLU())                            -- non-linear activation function\n",
    "\n",
    "model:add(nn.Linear(30, 4))                     -- Final layer has 2 outputs. One for triangle wave, one for square\n",
    "model:add(nn.Sigmoid())                      -- log-probability output, since this is a classification problem\n",
    "\n"
   ]
  },
  {
   "cell_type": "markdown",
   "metadata": {},
   "source": [
    "With torch, we can see the dimensions of a tensor by applying a ‘#’ before it. So at any time when constructing the network, you can create a partially complete network, and propagate a blank tensor through it and see what the dimension of the last layer is.\n"
   ]
  },
  {
   "cell_type": "code",
   "execution_count": 50,
   "metadata": {
    "collapsed": false
   },
   "outputs": [
    {
     "data": {
      "text/plain": [
       " 4\n",
       "[torch.LongStorage of size 1]\n",
       "\n"
      ]
     },
     "execution_count": 50,
     "metadata": {},
     "output_type": "execute_result"
    }
   ],
   "source": [
    "-- When building the network, we can test the shape of the output by sending in a dummy tensor\n",
    "#model:forward(torch.Tensor(64,1))"
   ]
  },
  {
   "cell_type": "markdown",
   "metadata": {},
   "source": [
    "Next, we set our criteria to nn.ClassNLLCriterion, which is helpful for classification problems. Next, we create a trainer using the StochasticGradient descent algorithm, and set the learning rate and number of iterations. If the learning rate is too high, the network will not converge. If it is too low, the network will converge too slowly. So it takes practice to get this just right.\n"
   ]
  },
  {
   "cell_type": "code",
   "execution_count": 66,
   "metadata": {
    "collapsed": false
   },
   "outputs": [],
   "source": [
    "criterion = nn.MSECriterion()\n",
    "trainer = nn.StochasticGradient(model, criterion)\n",
    "trainer.learningRate = 0.01\n",
    "trainer.maxIteration = 10 -- do 200 epochs of training\n"
   ]
  },
  {
   "cell_type": "markdown",
   "metadata": {},
   "source": [
    "Finally, we train our model! Go grab a cup of coffee, it may take a while. Later we will focus on accelerating these training sessions with the GPU, but our network is so small right now that it isn’t practical to accelerate."
   ]
  },
  {
   "cell_type": "code",
   "execution_count": 67,
   "metadata": {
    "collapsed": false
   },
   "outputs": [
    {
     "data": {
      "text/plain": [
       "# StochasticGradient: training\t\n"
      ]
     },
     "execution_count": 67,
     "metadata": {},
     "output_type": "execute_result"
    },
    {
     "data": {
      "text/plain": [
       "# current error = 0.018347137918067\t\n"
      ]
     },
     "execution_count": 67,
     "metadata": {},
     "output_type": "execute_result"
    },
    {
     "data": {
      "text/plain": [
       "# current error = 0.00015344648413548\t\n"
      ]
     },
     "execution_count": 67,
     "metadata": {},
     "output_type": "execute_result"
    },
    {
     "data": {
      "text/plain": [
       "# current error = 6.8483562364507e-05\t\n"
      ]
     },
     "execution_count": 67,
     "metadata": {},
     "output_type": "execute_result"
    },
    {
     "data": {
      "text/plain": [
       "# current error = 4.2417755480933e-05\t\n"
      ]
     },
     "execution_count": 67,
     "metadata": {},
     "output_type": "execute_result"
    },
    {
     "data": {
      "text/plain": [
       "# current error = 3.0112008419786e-05\t\n"
      ]
     },
     "execution_count": 67,
     "metadata": {},
     "output_type": "execute_result"
    },
    {
     "data": {
      "text/plain": [
       "# current error = 2.3068334727343e-05\t\n"
      ]
     },
     "execution_count": 67,
     "metadata": {},
     "output_type": "execute_result"
    },
    {
     "data": {
      "text/plain": [
       "# current error = 1.8554439835336e-05\t\n"
      ]
     },
     "execution_count": 67,
     "metadata": {},
     "output_type": "execute_result"
    },
    {
     "data": {
      "text/plain": [
       "# current error = 1.5434778486868e-05\t\n"
      ]
     },
     "execution_count": 67,
     "metadata": {},
     "output_type": "execute_result"
    },
    {
     "data": {
      "text/plain": [
       "# current error = 1.3159659701879e-05\t\n"
      ]
     },
     "execution_count": 67,
     "metadata": {},
     "output_type": "execute_result"
    },
    {
     "data": {
      "text/plain": [
       "# current error = 1.1433745461981e-05\t\n",
       "# StochasticGradient: you have reached the maximum number of iterations\t\n",
       "# training error = 1.1433745461981e-05\t\n",
       "\n"
      ]
     },
     "execution_count": 67,
     "metadata": {},
     "output_type": "execute_result"
    }
   ],
   "source": [
    "trainer:train(trainset)"
   ]
  },
  {
   "cell_type": "markdown",
   "metadata": {},
   "source": [
    "We can see what an example output and label are below."
   ]
  },
  {
   "cell_type": "code",
   "execution_count": 71,
   "metadata": {
    "collapsed": false
   },
   "outputs": [
    {
     "data": {
      "text/plain": [
       " 0.0000\n",
       " 0.0000\n",
       " 0.9999\n",
       " 1.0000\n",
       "[torch.DoubleTensor of size 4]\n",
       "\n"
      ]
     },
     "execution_count": 71,
     "metadata": {},
     "output_type": "execute_result"
    }
   ],
   "source": [
    "-- Lets see an example output\n",
    "model:forward(trainset.data[100])\n"
   ]
  },
  {
   "cell_type": "code",
   "execution_count": 70,
   "metadata": {
    "collapsed": false
   },
   "outputs": [
    {
     "data": {
      "text/plain": [
       " 0\n",
       " 0\n",
       " 1\n",
       " 1\n",
       "[torch.DoubleTensor of size 4]\n",
       "\n"
      ]
     },
     "execution_count": 70,
     "metadata": {},
     "output_type": "execute_result"
    }
   ],
   "source": [
    "-- Lets see which label that is\n",
    "trainset.label[100]"
   ]
  },
  {
   "cell_type": "markdown",
   "metadata": {},
   "source": [
    "Let’s figure out how many of the examples are predicted correctly."
   ]
  },
  {
   "cell_type": "code",
   "execution_count": null,
   "metadata": {
    "collapsed": true
   },
   "outputs": [],
   "source": [
    "function TestTrainset()\n",
    "    correct = 0\n",
    "    for i=1,nExamples do\n",
    "        local groundtruth = trainset.label[i]\n",
    "        local prediction = model:forward(trainset.data[i])\n",
    "        local confidences, indices = torch.sort(prediction, true)  -- sort in descending order\n",
    "        if groundtruth == indices[1] then\n",
    "            correct = correct + 1\n",
    "        else\n",
    "            --print(\"Incorrect! \"..tostring(i))\n",
    "        end\n",
    "    end\n",
    "    print(tostring(correct))\n",
    "end"
   ]
  },
  {
   "cell_type": "code",
   "execution_count": null,
   "metadata": {
    "collapsed": false
   },
   "outputs": [],
   "source": [
    "-- Lets see how many out of the 10000 samples we predict correctly!\n",
    "TestTrainset()"
   ]
  },
  {
   "cell_type": "markdown",
   "metadata": {},
   "source": [
    "Hopefully, that number should read 10,000. Next, let’s be sure our network is really trained well. Let us generate new training sets, and test them. Hopefully, everything will be 10,000, but if there are some incorrect examples, go back and train some more. In real life, we can suffer from a phenomenon called over-training where the model is over-fit to our training data, but we will cover this in a later article. Try to train your network until it passes everything you can throw at it."
   ]
  },
  {
   "cell_type": "code",
   "execution_count": null,
   "metadata": {
    "collapsed": false
   },
   "outputs": [],
   "source": [
    "-- Generate a new set of data, and test it\n",
    "for i=1,10 do\n",
    "    GenerateTrainingSet()\n",
    "    TestTrainset()\n",
    "end"
   ]
  },
  {
   "cell_type": "markdown",
   "metadata": {},
   "source": [
    "Great, you’ve done it! Now, lets try to gain some understanding into what’s going on here. We created two convolutional layers, the first having ten 1×7 kernels, and the second convolutional layer having five, 10×7 kernels. The reason I use itorch instead of the command line torch interface is so I can easily inspect graphics. Let’s take a look at the filter in the first convolutional layer. We can see that each row is a filter."
   ]
  },
  {
   "cell_type": "code",
   "execution_count": null,
   "metadata": {
    "collapsed": false
   },
   "outputs": [],
   "source": [
    "function IntroduceNoise()\n",
    "    for i=1,nExamples do\n",
    "        for j=1,64 do\n",
    "            trainset.data[i][j] = trainset.data[i][j] + torch.normal(0,.25);\n",
    "        end\n",
    "    end\n",
    "end\n",
    "\n",
    "-- Generate a new set of data, and test it\n",
    "for i=1,10 do\n",
    "    GenerateTrainingSet()\n",
    "    IntroduceNoise()\n",
    "    TestTrainset()\n",
    "end"
   ]
  },
  {
   "cell_type": "code",
   "execution_count": null,
   "metadata": {
    "collapsed": false
   },
   "outputs": [],
   "source": [
    "-- To see the network's structure and variables\n",
    "model.modules"
   ]
  }
 ],
 "metadata": {
  "kernelspec": {
   "display_name": "iTorch",
   "language": "lua",
   "name": "itorch"
  },
  "language_info": {
   "name": "lua",
   "version": "5.1"
  }
 },
 "nbformat": 4,
 "nbformat_minor": 0
}
