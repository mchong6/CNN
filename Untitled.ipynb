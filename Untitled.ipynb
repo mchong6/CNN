{
 "cells": [
  {
   "cell_type": "code",
   "execution_count": 19,
   "metadata": {
    "collapsed": false
   },
   "outputs": [
    {
     "data": {
      "text/plain": [
       " 0.1720  0.1352 -0.0122\n",
       "[torch.DoubleTensor of size 1x3]\n",
       "\n"
      ]
     },
     "execution_count": 19,
     "metadata": {},
     "output_type": "execute_result"
    },
    {
     "data": {
      "text/plain": [
       "  7\n",
       "  6\n",
       "  3\n",
       "  9\n",
       "  5\n",
       "  8\n",
       "  4\n",
       "  1\n",
       " 10\n",
       "  2\n",
       "[torch.DoubleTensor of size 10]\n",
       "\n",
       " 0.1720  0.1352 -0.0122\n",
       "[torch.DoubleTensor of size 1x3]\n",
       "\n",
       "  7\n",
       "  6\n",
       "  3\n",
       "  9\n",
       "  5\n",
       "  8\n",
       "  4\n",
       "  1\n",
       " 10\n",
       "  2\n",
       "[torch.DoubleTensor of size 10]\n",
       "\n"
      ]
     },
     "execution_count": 19,
     "metadata": {},
     "output_type": "execute_result"
    }
   ],
   "source": [
    "torch.manualSeed(124)\n",
    "x = torch.Tensor(1,3)\n",
    "x:normal(0,math.sqrt(2/100))\n",
    "print(x)\n",
    "print(torch.randperm(10))\n",
    "\n",
    "torch.manualSeed(124)\n",
    "x = torch.Tensor(1,3)\n",
    "x:normal(0,math.sqrt(2/100))\n",
    "print(x)\n",
    "print(torch.randperm(10))\n"
   ]
  },
  {
   "cell_type": "code",
   "execution_count": null,
   "metadata": {
    "collapsed": false
   },
   "outputs": [],
   "source": [
    "x = math.ceil(.4)\n",
    "print(x)"
   ]
  },
  {
   "cell_type": "code",
   "execution_count": 1,
   "metadata": {
    "collapsed": true
   },
   "outputs": [],
   "source": [
    "require 'cunn';\n",
    "require 'nn';\n",
    "require 'paths'\n",
    "weights = torch.load 'model.net'"
   ]
  },
  {
   "cell_type": "code",
   "execution_count": 26,
   "metadata": {
    "collapsed": false
   },
   "outputs": [
    {
     "data": {
      "text/plain": [
       "(1,1,.,.) = \n",
       " 0.01 *\n",
       "  -1.5015 -0.4907 -3.3286\n",
       "   1.5331 -1.0919 -0.1802\n",
       "   0.5670  2.6883 -0.4625\n",
       "[torch.CudaTensor of size 1x1x3x3]\n",
       "\n",
       "(1,1,.,.) = \n",
       " 0.01 *\n",
       "   0.8904 -1.2371 -0.1957\n",
       "   1.1219 -0.0984 -1.2029\n",
       "   0.3280 -0.8325 -1.2094\n",
       "[torch.CudaTensor of size 1x1x3x3]\n",
       "\n",
       "(1,1,.,.) = \n",
       " 0.01 *\n",
       "   0.8687 -1.2526 -0.2008\n",
       "   1.1010 -0.1060 -1.2054\n",
       "   0.3235 -0.8428 -1.2100\n",
       "[torch.CudaTensor of size 1x1x3x3]\n",
       "\n"
      ]
     },
     "execution_count": 26,
     "metadata": {},
     "output_type": "execute_result"
    }
   ],
   "source": [
    "--print(weights.modules[9].modules[1])\n",
    "print(weights.modules[9].modules[1].modules[37].weight[{{1},{2}}])\n",
    "print(weights.modules[9].modules[2].modules[37].weight[{{1},{2}}])\n",
    "print(weights.modules[9].modules[3].modules[37].weight[{{1},{2}}])\n",
    "--[[print(weights.modules[9].modules[1].modules[46].modules[1].modules[6].weight[{{},{1,10}}])\n",
    "print(weights.modules[9].modules[2].modules[46].modules[1].modules[6].weight[{{},{1,10}}])\n",
    "\n",
    "print(weights.modules[9].modules[1].modules[46].modules[2].modules[6].weight[{{},{1,10}}])\n",
    "print(weights.modules[9].modules[2].modules[46].modules[2].modules[6].weight[{{},{1,10}}])\n",
    "print(weights.modules[9].modules[3].modules[46].modules[6].weight[{{},{1,10}}])]]"
   ]
  },
  {
   "cell_type": "code",
   "execution_count": null,
   "metadata": {
    "collapsed": false
   },
   "outputs": [],
   "source": [
    "require 'cunn';\n",
    "require 'nn';\n",
    "require 'paths'\n",
    "local matio = require 'matio'\n",
    "subset = matio.load('CIFAR2_reshaped.mat')\n",
    "--weights = torch.load 'model.net'\n",
    "nRepeat = 4\n",
    "print(#subset.train_X)"
   ]
  },
  {
   "cell_type": "code",
   "execution_count": null,
   "metadata": {
    "collapsed": false
   },
   "outputs": [],
   "source": [
    "require 'xlua'\n",
    "require 'optim'\n",
    "require 'image'\n",
    "\n",
    "print(subset)\n",
    "test = subset.test_X[{{200,206}}]:cuda()\n",
    "weights:evaluate()\n",
    "outputs = weights:forward(test)"
   ]
  },
  {
   "cell_type": "code",
   "execution_count": null,
   "metadata": {
    "collapsed": false
   },
   "outputs": [],
   "source": [
    "print(outputs)"
   ]
  },
  {
   "cell_type": "code",
   "execution_count": null,
   "metadata": {
    "collapsed": false
   },
   "outputs": [],
   "source": [
    "print(weights.modules[54].modules[10].weight)\n",
    "--print(weights.modules[9].modules[2].modules[45])\n",
    "--print(weights.modules[9].modules[3].modules[46].modules[6].weight[1][{{1,10}}])\n",
    "--print(weights)"
   ]
  }
 ],
 "metadata": {
  "kernelspec": {
   "display_name": "iTorch",
   "language": "lua",
   "name": "itorch"
  },
  "language_info": {
   "name": "lua",
   "version": "5.1"
  }
 },
 "nbformat": 4,
 "nbformat_minor": 0
}
